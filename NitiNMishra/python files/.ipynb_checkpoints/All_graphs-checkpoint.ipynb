{
 "cells": [
  {
   "cell_type": "code",
   "execution_count": null,
   "id": "699f378a",
   "metadata": {},
   "outputs": [],
   "source": [
    "import pandas as pd\n",
    "import matplotlib\n",
    "import os\n",
    "import numpy as np  # Import numpy for mathematical functions\n",
    "matplotlib.use('Agg')  # Use non-interactive backend for saving plots\n",
    "import matplotlib.pyplot as plt\n",
    "import seaborn as sns"
   ]
  },
  {
   "cell_type": "code",
   "execution_count": null,
   "id": "b110701b",
   "metadata": {},
   "outputs": [],
   "source": [
    "# Directory for saving the output graphs\n",
    "output_dir = r\"C:\\Users\\nitin\\OneDrive\\Documents\\Infosys Springboard Internship Files\\NitinMishra-Infosys-Nov24\\python files\\Output graphs\"\n",
    "os.makedirs(output_dir, exist_ok=True)  # Ensure output directory exists"
   ]
  },
  {
   "cell_type": "code",
   "execution_count": null,
   "id": "0bb9dc2e",
   "metadata": {},
   "outputs": [],
   "source": [
    "# Load the dataset from the specified file path of the master dataset\n",
    "file_path = r\"C:\\Users\\nitin\\OneDrive\\Documents\\Infosys Springboard Internship Files\\NitinMishra-Infosys-Nov24\\datasets\\master_dataset\\master_dataset.xlsx\"\n",
    "data = pd.read_excel(file_path)"
   ]
  },
  {
   "cell_type": "markdown",
   "id": "fb1f56ad",
   "metadata": {},
   "source": [
    "FEATURE ENGINEERING CODE\n",
    "Calculating metrics for analysis"
   ]
  },
  {
   "cell_type": "code",
   "execution_count": null,
   "id": "8f24f413",
   "metadata": {},
   "outputs": [],
   "source": [
    "# Calculating Click-Through Rate (CTR) as a percentage\n",
    "data['CTR'] = (data['Clicks'] / data['Impressions']) * 100  # CTR helps us measure click efficiency"
   ]
  },
  {
   "cell_type": "code",
   "execution_count": null,
   "id": "a23d7d0b",
   "metadata": {},
   "outputs": [],
   "source": [
    "# Conversion Rate in order to show the percentage of impressions that led to sales\n",
    "data['Conversion Rate'] = (data['Quantity'] / data['Impressions']) * 100"
   ]
  },
  {
   "cell_type": "code",
   "execution_count": null,
   "id": "0bc8d870",
   "metadata": {},
   "outputs": [],
   "source": [
    "# Calculating sales per click in order to understand effectiveness\n",
    "data['Sales Per Click'] = data['Quantity'] / data['Clicks']"
   ]
  },
  {
   "cell_type": "code",
   "execution_count": null,
   "id": "d9fc3de7",
   "metadata": {},
   "outputs": [],
   "source": [
    "# Get the day of the week for each corresponding date entry\n",
    "data['Day of Week'] = data['Day Index'].dt.day_name()"
   ]
  },
  {
   "cell_type": "code",
   "execution_count": null,
   "id": "53960c94",
   "metadata": {},
   "outputs": [],
   "source": [
    "# Calculating daily growth rate in quantity as a percentage\n",
    "data['Quantity Growth'] = data['Quantity'].pct_change() * 100"
   ]
  },
  {
   "cell_type": "code",
   "execution_count": null,
   "id": "204c9567",
   "metadata": {},
   "outputs": [],
   "source": [
    "# Handling any missing values or infinities that may affect analysis\n",
    "data = data.fillna(0).replace([float('inf'), -float('inf')], 0)"
   ]
  },
  {
   "cell_type": "code",
   "execution_count": null,
   "id": "45a7d679",
   "metadata": {},
   "outputs": [],
   "source": [
    "# VISUALIZATIONS\n",
    "plt.style.use('ggplot')  # Set the plotting style\n",
    "plt.rcParams['figure.figsize'] = (12, 6)  # Set figure size for all plots"
   ]
  },
  {
   "cell_type": "code",
   "execution_count": null,
   "id": "99b3312b",
   "metadata": {},
   "outputs": [],
   "source": [
    "# 1. CTR Over Time Plot\n",
    "plt.figure()\n",
    "plt.plot(data['Day Index'], data['CTR'], label='CTR (%)')\n",
    "plt.title('CTR Over Time')\n",
    "plt.xlabel('Date')\n",
    "plt.ylabel('CTR (%)')\n",
    "plt.legend()\n",
    "plt.grid(True)\n",
    "plt.savefig(os.path.join(output_dir, 'ctr_over_time.png'))"
   ]
  },
  {
   "cell_type": "code",
   "execution_count": null,
   "id": "22fa9aed",
   "metadata": {},
   "outputs": [],
   "source": [
    "# 2. Conversion Rate Over Time (CTR)\n",
    "plt.figure()\n",
    "plt.plot(data['Day Index'], data['Conversion Rate'], label='Conversion Rate (%)', color='orange')\n",
    "plt.title('Conversion Rate Over Time')\n",
    "plt.xlabel('Date')\n",
    "plt.ylabel('Conversion Rate (%)')\n",
    "plt.legend()\n",
    "plt.grid(True)\n",
    "plt.savefig(os.path.join(output_dir, 'conversion_rate_over_time.png'))"
   ]
  },
  {
   "cell_type": "code",
   "execution_count": null,
   "id": "bfb25e0a",
   "metadata": {},
   "outputs": [],
   "source": [
    "# 3. Sales Per Click Distribution\n",
    "plt.figure()\n",
    "plt.hist(data['Sales Per Click'], bins=20, alpha=0.7, color='purple', edgecolor='black')\n",
    "plt.title('Distribution of Sales Per Click')\n",
    "plt.xlabel('Sales Per Click')\n",
    "plt.ylabel('Frequency')\n",
    "plt.savefig(os.path.join(output_dir, 'sales_per_click_distribution.png'))"
   ]
  },
  {
   "cell_type": "code",
   "execution_count": null,
   "id": "d8af7488",
   "metadata": {},
   "outputs": [],
   "source": [
    "# 4. Average Quantity by Day of the Week\n",
    "# Group by day of the week and calculate the average quantity sold on each day\n",
    "average_quantity = data.groupby('Day of Week')['Quantity'].mean().reindex(\n",
    "    ['Monday', 'Tuesday', 'Wednesday', 'Thursday', 'Friday', 'Saturday', 'Sunday']\n",
    ")\n",
    "plt.figure()\n",
    "average_quantity.plot(kind='bar', color='green', alpha=0.7, edgecolor='black')\n",
    "plt.title('Average Quantity by Day of the Week')\n",
    "plt.xlabel('Day of the Week')\n",
    "plt.ylabel('Average Quantity')\n",
    "plt.savefig(os.path.join(output_dir, 'average_quantity_by_day.png'))"
   ]
  },
  {
   "cell_type": "code",
   "execution_count": null,
   "id": "9894c6e5",
   "metadata": {},
   "outputs": [],
   "source": [
    "# 5. Day-over-Day Growth for Quantity\n",
    "plt.figure()\n",
    "plt.hist(data['Quantity Growth'], bins=20, alpha=0.7, color='blue', edgecolor='black')\n",
    "plt.title('Day-over-Day Growth for Quantity')\n",
    "plt.xlabel('Growth (%)')\n",
    "plt.ylabel('Frequency')\n",
    "plt.savefig(os.path.join(output_dir, 'quantity_growth_distribution.png'))"
   ]
  },
  {
   "cell_type": "code",
   "execution_count": null,
   "id": "b1c9c5fb",
   "metadata": {},
   "outputs": [],
   "source": [
    "# 6. Clicks vs Quantity Scatter Plot\n",
    "plt.figure()\n",
    "plt.scatter(data['Clicks'], data['Quantity'], alpha=0.7, color='red')\n",
    "plt.title('Clicks vs Quantity')\n",
    "plt.xlabel('Clicks')\n",
    "plt.ylabel('Quantity')\n",
    "plt.grid(True)\n",
    "plt.savefig(os.path.join(output_dir, 'clicks_vs_quantity.png'))"
   ]
  },
  {
   "cell_type": "code",
   "execution_count": null,
   "id": "0a49946a",
   "metadata": {},
   "outputs": [],
   "source": [
    "# 7. Impressions vs Quantity Scatter Plot\n",
    "plt.figure()\n",
    "plt.scatter(data['Impressions'], data['Quantity'], alpha=0.7, color='teal')\n",
    "plt.title('Impressions vs Quantity')\n",
    "plt.xlabel('Impressions')\n",
    "plt.ylabel('Quantity')\n",
    "plt.grid(True)\n",
    "plt.savefig(os.path.join(output_dir, 'impressions_vs_quantity.png'))"
   ]
  },
  {
   "cell_type": "code",
   "execution_count": null,
   "id": "5f4d3f43",
   "metadata": {},
   "outputs": [],
   "source": [
    "# 8. Correlation Heatmap (In order to analyze relationships between key metrics)\n",
    "correlation_matrix = data[['Clicks', 'Impressions', 'Quantity', 'CTR', 'Conversion Rate']].corr()\n",
    "plt.figure()\n",
    "sns.heatmap(correlation_matrix, annot=True, cmap='coolwarm', fmt='.2f')\n",
    "plt.title('Correlation Heatmap')\n",
    "plt.savefig(os.path.join(output_dir, 'correlation_heatmap.png'))"
   ]
  },
  {
   "cell_type": "code",
   "execution_count": null,
   "id": "d0b57ef1",
   "metadata": {},
   "outputs": [],
   "source": [
    "# 9. Monthly Trends (For Quantity, Clicks, and Impressions)\n",
    "# Resampling data by month and summing up quantities\n",
    "monthly_data = data.resample('MS', on='Day Index').sum()\n",
    "plt.figure()\n",
    "monthly_data[['Quantity', 'Clicks', 'Impressions']].plot()\n",
    "plt.title('Monthly Trends for Quantity, Clicks, and Impressions')\n",
    "plt.xlabel('Month')\n",
    "plt.ylabel('Counts')\n",
    "plt.legend()\n",
    "plt.savefig(os.path.join(output_dir, 'monthly_trends.png'))"
   ]
  },
  {
   "cell_type": "code",
   "execution_count": null,
   "id": "386d37a0",
   "metadata": {},
   "outputs": [],
   "source": [
    "# 10. Weekday vs Weekend Analysis for Quantity\n",
    "# Adding a new column to identify weekends\n",
    "data['Weekend'] = data['Day of Week'].isin(['Saturday', 'Sunday']).astype(int)\n",
    "weekday_weekend_avg = data.groupby('Weekend')[['Quantity', 'Clicks', 'Impressions']].mean()\n",
    "plt.figure()\n",
    "weekday_weekend_avg.plot(kind='bar')\n",
    "plt.title('Weekday vs Weekend Average for Quantity, Clicks, and Impressions')\n",
    "plt.xlabel('Weekend (0=Weekday, 1=Weekend)')\n",
    "plt.ylabel('Average Counts')\n",
    "plt.savefig(os.path.join(output_dir, 'weekday_weekend_analysis.png'))"
   ]
  },
  {
   "cell_type": "code",
   "execution_count": null,
   "id": "38900a1a",
   "metadata": {},
   "outputs": [],
   "source": [
    "# 11. Quarterly Trends\n",
    "# Convert dates to quarters and summarize the data by quarter\n",
    "data['Quarter'] = data['Day Index'].dt.to_period('Q')\n",
    "quarterly_data = data.groupby('Quarter')[['Quantity', 'Clicks', 'Impressions']].sum()\n",
    "plt.figure()\n",
    "quarterly_data.plot()\n",
    "plt.title('Quarterly Trends for Quantity, Clicks, and Impressions')\n",
    "plt.xlabel('Quarter')\n",
    "plt.ylabel('Counts')\n",
    "plt.legend()\n",
    "plt.savefig(os.path.join(output_dir, 'quarterly_trends.png'))"
   ]
  },
  {
   "cell_type": "code",
   "execution_count": null,
   "id": "9267bfd1",
   "metadata": {},
   "outputs": [],
   "source": [
    "# 12. Log-Transformed Clicks and Impressions Distributions\n",
    "# Using log transformations to visualize distributions better\n",
    "data['Log Clicks'] = np.log1p(data['Clicks'])\n",
    "data['Log Impressions'] = np.log1p(data['Impressions'])\n",
    "plt.figure()\n",
    "plt.hist(data['Log Clicks'], bins=20, alpha=0.7, color='skyblue', edgecolor='black')\n",
    "plt.title('Log-Transformed Clicks Distribution')\n",
    "plt.xlabel('Log Clicks')\n",
    "plt.ylabel('Frequency')\n",
    "plt.savefig(os.path.join(output_dir, 'log_clicks_distribution.png'))"
   ]
  },
  {
   "cell_type": "code",
   "execution_count": null,
   "id": "610a7be5",
   "metadata": {},
   "outputs": [],
   "source": [
    "plt.figure()\n",
    "plt.hist(data['Log Impressions'], bins=20, alpha=0.7, color='salmon', edgecolor='black')\n",
    "plt.title('Log-Transformed Impressions Distribution')\n",
    "plt.xlabel('Log Impressions')\n",
    "plt.ylabel('Frequency')\n",
    "plt.savefig(os.path.join(output_dir, 'log_impressions_distribution.png'))"
   ]
  },
  {
   "cell_type": "code",
   "execution_count": null,
   "id": "cef0da0b",
   "metadata": {},
   "outputs": [],
   "source": [
    "# 13. Box Plot for Outlier Detection in Clicks, Impressions, and Quantity\n",
    "# Box plot to visualize outliers\n",
    "plt.figure()\n",
    "sns.boxplot(data=data[['Clicks', 'Impressions', 'Quantity']])\n",
    "plt.title('Box Plot for Outlier Detection')\n",
    "plt.savefig(os.path.join(output_dir, 'outliers_boxplot.png'))"
   ]
  }
 ],
 "metadata": {
  "jupytext": {
   "cell_metadata_filter": "-all",
   "main_language": "python",
   "notebook_metadata_filter": "-all"
  }
 },
 "nbformat": 4,
 "nbformat_minor": 5
}
